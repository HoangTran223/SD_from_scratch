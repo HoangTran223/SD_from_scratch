{
 "cells": [
  {
   "cell_type": "markdown",
   "id": "c5c7db1e",
   "metadata": {},
   "source": [
    "# Test Stable Diffusion with text-to-image\n"
   ]
  },
  {
   "cell_type": "code",
   "execution_count": null,
   "id": "035b1954",
   "metadata": {
    "vscode": {
     "languageId": "plaintext"
    }
   },
   "outputs": [],
   "source": [
    "!pip install --upgrade torch torchvision --extra-index-url https://download.pytorch.org/whl/cu118"
   ]
  },
  {
   "cell_type": "code",
   "execution_count": null,
   "id": "fac21c12",
   "metadata": {
    "vscode": {
     "languageId": "plaintext"
    }
   },
   "outputs": [],
   "source": [
    "!pip install transformers pandas numpy tqdm wandb"
   ]
  },
  {
   "cell_type": "code",
   "execution_count": null,
   "id": "37baa45d",
   "metadata": {
    "vscode": {
     "languageId": "plaintext"
    }
   },
   "outputs": [],
   "source": [
    "import torch\n",
    "import torchvision\n",
    "# import torchaudio\n",
    "\n",
    "print(f'torch version: {torch.__version__}')\n",
    "print(f'torchvision version: {torchvision.__version__}')\n",
    "# print(f'torchaudio version: {torchaudio.__version__}')"
   ]
  },
  {
   "cell_type": "code",
   "execution_count": null,
   "id": "3117459c",
   "metadata": {
    "vscode": {
     "languageId": "plaintext"
    }
   },
   "outputs": [],
   "source": [
    "import subprocess\n",
    "import os \n",
    "\n",
    "\n",
    "def git(*args):\n",
    "    result = subprocess.run(['git'] + list(args), check=True)\n",
    "    return result\n",
    "\n",
    "os.chdir('/kaggle/working/')\n",
    "repo_url = \"https://github.com/HoangTran223/SD_from_scratch.git\"\n",
    "\n",
    "git(\"clone\", repo_url)"
   ]
  },
  {
   "cell_type": "code",
   "execution_count": null,
   "id": "c639a895",
   "metadata": {
    "vscode": {
     "languageId": "plaintext"
    }
   },
   "outputs": [],
   "source": [
    "!pip install pipeline"
   ]
  },
  {
   "cell_type": "code",
   "execution_count": null,
   "id": "80524da2",
   "metadata": {
    "vscode": {
     "languageId": "plaintext"
    }
   },
   "outputs": [],
   "source": [
    "os.chdir('/kaggle/working/SD_from_scratch/')\n",
    "print(\"After working directory:\", os.getcwd())\n",
    "!ls /kaggle/working/SD_from_scratch/"
   ]
  },
  {
   "cell_type": "code",
   "execution_count": null,
   "id": "9e6738e1",
   "metadata": {
    "vscode": {
     "languageId": "plaintext"
    }
   },
   "outputs": [],
   "source": [
    "if torch.cuda.is_available():\n",
    "    DEVICE = \"cuda\"\n",
    "else:\n",
    "    DEVICE = \"cpu\"\n",
    "print(f\"Using device: {DEVICE}\")"
   ]
  },
  {
   "cell_type": "code",
   "execution_count": null,
   "id": "8fae14cb",
   "metadata": {
    "vscode": {
     "languageId": "plaintext"
    }
   },
   "outputs": [],
   "source": [
    "from huggingface_hub import hf_hub_download\n",
    "os.makedirs(\"/kaggle/working/data\", exist_ok=True)\n",
    "\n",
    "import requests\n",
    "\n",
    "url = \"https://huggingface.co/stable-diffusion-v1-5/stable-diffusion-v1-5/resolve/main/v1-5-pruned-emaonly.ckpt\"\n",
    "output_path = \"/kaggle/working/data/v1-5-pruned-emaonly.ckpt\"\n",
    "\n",
    "response = requests.get(url)\n",
    "with open(output_path, \"wb\") as f:\n",
    "    f.write(response.content)"
   ]
  },
  {
   "cell_type": "code",
   "execution_count": null,
   "metadata": {
    "vscode": {
     "languageId": "plaintext"
    }
   },
   "outputs": [],
   "source": [
    "from diffusers import DiffusionPipeline\n",
    "pipe = DiffusionPipeline.from_pretrained(\"stable-diffusion-v1-5/stable-diffusion-v1-5\")"
   ]
  },
  {
   "cell_type": "code",
   "execution_count": null,
   "id": "3ee16854",
   "metadata": {
    "vscode": {
     "languageId": "plaintext"
    }
   },
   "outputs": [],
   "source": [
    "pipe.tokenizer.save_pretrained(\"/kaggle/working/data\")\n",
    "# pipe.save_pretrained(\"/kaggle/working/data\")"
   ]
  },
  {
   "cell_type": "code",
   "execution_count": null,
   "id": "de9aad89",
   "metadata": {
    "vscode": {
     "languageId": "plaintext"
    }
   },
   "outputs": [],
   "source": [
    "!git stash\n",
    "!git pull origin main\n",
    "# import sys\n",
    "# sys.path.append(\"/kaggle/working/SD_from_scratch\")"
   ]
  },
  {
   "cell_type": "code",
   "execution_count": null,
   "id": "c8ad6b35",
   "metadata": {
    "vscode": {
     "languageId": "plaintext"
    }
   },
   "outputs": [],
   "source": [
    "from sd import model_loader, pipeline \n",
    "import torch\n",
    "import numpy\n",
    "from transformers import CLIPTokenizer\n",
    "\n",
    "tokenizer = CLIPTokenizer(\n",
    "    vocab_file=\"/kaggle/working/data/vocab.json\",\n",
    "    merges_file=\"/kaggle/working/data/merges.txt\"\n",
    ")"
   ]
  },
  {
   "cell_type": "code",
   "execution_count": null,
   "id": "2acdd402",
   "metadata": {
    "vscode": {
     "languageId": "plaintext"
    }
   },
   "outputs": [],
   "source": [
    "model_path_1 = \"/kaggle/working/data/v1-5-pruned-emaonly.ckpt\"\n",
    "models = model_loader.preload_models_from_standard_weights(model_path_1, DEVICE)"
   ]
  },
  {
   "cell_type": "code",
   "execution_count": null,
   "id": "e7b90958",
   "metadata": {
    "vscode": {
     "languageId": "plaintext"
    }
   },
   "outputs": [],
   "source": [
    "prompt = \"A girl student, best quality, vibrant colors, detailed anime style, glasses, highly detailed, ultra sharp, cinematic, school uniform, 8k resolution, 3D illustration.\"\n",
    "negative_prompt = \"lowres, bad anatomy, extra fingers, watermark, text, blurry, distorted, sketch.\""
   ]
  },
  {
   "cell_type": "code",
   "execution_count": null,
   "id": "50a362f4",
   "metadata": {
    "vscode": {
     "languageId": "plaintext"
    }
   },
   "outputs": [],
   "source": [
    "output_image = pipeline.generate(\n",
    "    prompt=prompt,\n",
    "    uncond_prompt=negative_prompt,\n",
    "    input_image=None,\n",
    "    strength=0.0,\n",
    "    do_cfg=True,\n",
    "    cfg_scale=8,\n",
    "    sampler_name=sampler,\n",
    "    n_inference_steps=50,\n",
    "    seed=42,\n",
    "    models=models,\n",
    "    device=DEVICE,\n",
    "    idle_device=\"cpu\",\n",
    "    tokenizer=tokenizer,\n",
    ")\n",
    "\n",
    "Image.fromarray(output_image)"
   ]
  }
 ],
 "metadata": {
  "language_info": {
   "name": "python"
  }
 },
 "nbformat": 4,
 "nbformat_minor": 5
}
