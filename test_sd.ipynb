{
 "cells": [
  {
   "cell_type": "markdown",
   "id": "c5c7db1e",
   "metadata": {},
   "source": [
    "# Test Stable Diffusion with text-to-image\n"
   ]
  },
  {
   "cell_type": "code",
   "execution_count": null,
   "id": "035b1954",
   "metadata": {
    "vscode": {
     "languageId": "plaintext"
    }
   },
   "outputs": [],
   "source": [
    "!pip install --upgrade torch torchvision --extra-index-url https://download.pytorch.org/whl/cu118"
   ]
  },
  {
   "cell_type": "code",
   "execution_count": null,
   "id": "fac21c12",
   "metadata": {
    "vscode": {
     "languageId": "plaintext"
    }
   },
   "outputs": [],
   "source": [
    "!pip install transformers pandas numpy tqdm wandb"
   ]
  },
  {
   "cell_type": "code",
   "execution_count": null,
   "id": "37baa45d",
   "metadata": {
    "vscode": {
     "languageId": "plaintext"
    }
   },
   "outputs": [],
   "source": [
    "import torch\n",
    "import torchvision\n",
    "# import torchaudio\n",
    "\n",
    "print(f'torch version: {torch.__version__}')\n",
    "print(f'torchvision version: {torchvision.__version__}')\n",
    "# print(f'torchaudio version: {torchaudio.__version__}')"
   ]
  },
  {
   "cell_type": "code",
   "execution_count": null,
   "id": "3117459c",
   "metadata": {
    "vscode": {
     "languageId": "plaintext"
    }
   },
   "outputs": [],
   "source": [
    "import subprocess\n",
    "import os \n",
    "\n",
    "\n",
    "def git(*args):\n",
    "    result = subprocess.run(['git'] + list(args), check=True)\n",
    "    return result\n",
    "\n",
    "os.chdir('/kaggle/working/')\n",
    "repo_url = \"https://github.com/HoangTran223/SD_from_scratch.git\"\n",
    "\n",
    "git(\"clone\", repo_url)"
   ]
  },
  {
   "cell_type": "code",
   "execution_count": null,
   "id": "c639a895",
   "metadata": {
    "vscode": {
     "languageId": "plaintext"
    }
   },
   "outputs": [],
   "source": [
    "!pip install pipeline"
   ]
  },
  {
   "cell_type": "code",
   "execution_count": null,
   "id": "80524da2",
   "metadata": {
    "vscode": {
     "languageId": "plaintext"
    }
   },
   "outputs": [],
   "source": [
    "os.chdir('/kaggle/working/SD_from_scratch/')\n",
    "print(\"After working directory:\", os.getcwd())\n",
    "!ls /kaggle/working/SD_from_scratch/"
   ]
  },
  {
   "cell_type": "code",
   "execution_count": null,
   "id": "9e6738e1",
   "metadata": {
    "vscode": {
     "languageId": "plaintext"
    }
   },
   "outputs": [],
   "source": [
    "if torch.cuda.is_available():\n",
    "    DEVICE = \"cuda\"\n",
    "else:\n",
    "    DEVICE = \"cpu\"\n",
    "print(f\"Using device: {DEVICE}\")"
   ]
  },
  {
   "cell_type": "code",
   "execution_count": null,
   "id": "8fae14cb",
   "metadata": {
    "vscode": {
     "languageId": "plaintext"
    }
   },
   "outputs": [],
   "source": [
    "from huggingface_hub import hf_hub_download\n",
    "model_path = hf_hub_download(\n",
    "    repo_id=\"runwayml/stable-diffusion-v1-5\",\n",
    "    filename=\"v1-5-pruned-emaonly.ckpt\",\n",
    "    cache_dir=\"/kaggle/working/data\"\n",
    ")\n",
    "print(\"Model path:\", model_path)"
   ]
  },
  {
   "cell_type": "code",
   "execution_count": null,
   "id": "c8ad6b35",
   "metadata": {
    "vscode": {
     "languageId": "plaintext"
    }
   },
   "outputs": [],
   "source": [
    "from huggingface_hub import snapshot_download\n",
    "import shutil\n",
    "import os\n",
    "\n",
    "tokenizer_dir = snapshot_download(\n",
    "    repo_id=\"openai/clip-vit-large-patch14\",\n",
    "    cache_dir=\"/kaggle/working/data\",\n",
    "    allow_patterns=[\"vocab.json\", \"merges.txt\"]\n",
    ")\n",
    "\n",
    "os.makedirs(\"/kaggle/working/data\", exist_ok=True)\n",
    "shutil.copy(os.path.join(tokenizer_dir, \"vocab.json\"), \"/kaggle/working/data/vocab.json\")\n",
    "shutil.copy(os.path.join(tokenizer_dir, \"merges.txt\"), \"/kaggle/working/data/merges.txt\")\n"
   ]
  },
  {
   "cell_type": "code",
   "execution_count": null,
   "id": "2acdd402",
   "metadata": {
    "vscode": {
     "languageId": "plaintext"
    }
   },
   "outputs": [],
   "source": [
    "import torch\n",
    "import numpy\n",
    "from sd import model_loader, pipeline \n",
    "from transformers import CLIPTokenizer\n",
    "\n",
    "model_path = \"/kaggle/working/data/v1-5-pruned-emaonly.ckpt\"\n",
    "tokenizer = CLIPTokenizer(\"/kaggle/working/data/vocab.json\", merges_file=\"/kaggle/working/data/merges.txt\")\n",
    "\n",
    "models = model_loader.preload_models_from_standard_weights(model_path, DEVICE)"
   ]
  },
  {
   "cell_type": "code",
   "execution_count": null,
   "id": "e7b90958",
   "metadata": {
    "vscode": {
     "languageId": "plaintext"
    }
   },
   "outputs": [],
   "source": [
    "prompt = \"A girl student, best quality, vibrant colors, detailed anime style, glasses, highly detailed, ultra sharp, cinematic, school uniform, 8k resolution, 3D illustration.\"\n",
    "negative_prompt = \"lowres, bad anatomy, extra fingers, watermark, text, blurry, distorted, sketch.\""
   ]
  },
  {
   "cell_type": "code",
   "execution_count": null,
   "id": "50a362f4",
   "metadata": {
    "vscode": {
     "languageId": "plaintext"
    }
   },
   "outputs": [],
   "source": [
    "output_image = pipeline.generate(\n",
    "    prompt=prompt,\n",
    "    uncond_prompt=negative_prompt,\n",
    "    input_image=None,\n",
    "    strength=0.0,\n",
    "    do_cfg=True,\n",
    "    cfg_scale=8,\n",
    "    sampler_name=sampler,\n",
    "    n_inference_steps=50,\n",
    "    seed=42,\n",
    "    models=models,\n",
    "    device=DEVICE,\n",
    "    idle_device=\"cpu\",\n",
    "    tokenizer=tokenizer,\n",
    ")\n",
    "\n",
    "Image.fromarray(output_image)"
   ]
  }
 ],
 "metadata": {
  "language_info": {
   "name": "python"
  }
 },
 "nbformat": 4,
 "nbformat_minor": 5
}
